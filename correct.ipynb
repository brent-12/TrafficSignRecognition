{
 "cells": [
  {
   "cell_type": "code",
   "execution_count": null,
   "metadata": {},
   "outputs": [
    {
     "name": "stdout",
     "output_type": "stream",
     "text": [
      "Please select 4 points (top-left, top-right, bottom-right, bottom-left) in this order.\n",
      "Point selected: (1408, 1350)\n",
      "Point selected: (1843, 1361)\n",
      "Point selected: (1858, 1933)\n",
      "Point selected: (1415, 1933)\n"
     ]
    },
    {
     "ename": "error",
     "evalue": "OpenCV(4.5.4) /private/var/folders/b7/g6qfbypj0tq32j5_trjh516r0000gn/T/pip-req-build-a3mcqhwx/opencv/modules/imgproc/src/imgwarp.cpp:3144: error: (-215:Assertion failed) _src.total() > 0 in function 'warpPerspective'\n",
     "output_type": "error",
     "traceback": [
      "\u001b[0;31m---------------------------------------------------------------------------\u001b[0m",
      "\u001b[0;31merror\u001b[0m                                     Traceback (most recent call last)",
      "Input \u001b[0;32mIn [7]\u001b[0m, in \u001b[0;36m<cell line: 26>\u001b[0;34m()\u001b[0m\n\u001b[1;32m     35\u001b[0m matrix \u001b[38;5;241m=\u001b[39m cv2\u001b[38;5;241m.\u001b[39mgetPerspectiveTransform(src_points, dst_points)\n\u001b[1;32m     37\u001b[0m \u001b[38;5;66;03m# Apply the perspective warp\u001b[39;00m\n\u001b[0;32m---> 38\u001b[0m warped_image \u001b[38;5;241m=\u001b[39m \u001b[43mcv2\u001b[49m\u001b[38;5;241;43m.\u001b[39;49m\u001b[43mwarpPerspective\u001b[49m\u001b[43m(\u001b[49m\u001b[43mcv2\u001b[49m\u001b[38;5;241;43m.\u001b[39;49m\u001b[43mimread\u001b[49m\u001b[43m(\u001b[49m\u001b[38;5;124;43m'\u001b[39;49m\u001b[38;5;124;43mpath/to/your/image.jpg\u001b[39;49m\u001b[38;5;124;43m'\u001b[39;49m\u001b[43m)\u001b[49m\u001b[43m,\u001b[49m\u001b[43m \u001b[49m\u001b[43mmatrix\u001b[49m\u001b[43m,\u001b[49m\u001b[43m \u001b[49m\u001b[43m(\u001b[49m\u001b[43mwidth\u001b[49m\u001b[43m,\u001b[49m\u001b[43m \u001b[49m\u001b[43mheight\u001b[49m\u001b[43m)\u001b[49m\u001b[43m)\u001b[49m\n\u001b[1;32m     40\u001b[0m \u001b[38;5;66;03m# Save the result to a specified directory\u001b[39;00m\n\u001b[1;32m     41\u001b[0m save_path \u001b[38;5;241m=\u001b[39m \u001b[38;5;124m'\u001b[39m\u001b[38;5;124mpath/to/your/folder/corrected_image.jpg\u001b[39m\u001b[38;5;124m'\u001b[39m\n",
      "\u001b[0;31merror\u001b[0m: OpenCV(4.5.4) /private/var/folders/b7/g6qfbypj0tq32j5_trjh516r0000gn/T/pip-req-build-a3mcqhwx/opencv/modules/imgproc/src/imgwarp.cpp:3144: error: (-215:Assertion failed) _src.total() > 0 in function 'warpPerspective'\n"
     ]
    }
   ],
   "source": [
    "import cv2\n",
    "import numpy as np\n",
    "\n",
    "# Load the image\n",
    "image = cv2.imread('./train/6/00006_00000_00001.jpg')\n",
    "points = []\n",
    "\n",
    "# Function to record clicks\n",
    "def select_points(event, x, y, flags, param):\n",
    "    if event == cv2.EVENT_LBUTTONDOWN:\n",
    "        points.append((x, y))\n",
    "        print(f\"Point selected: ({x}, {y})\")\n",
    "        # Draw a small circle on the selected point\n",
    "        cv2.circle(image, (x, y), 5, (0, 255, 0), -1)\n",
    "        cv2.imshow(\"Select Points\", image)\n",
    "\n",
    "# Display image and set up mouse callback for selecting points\n",
    "cv2.namedWindow(\"Select Points\")\n",
    "cv2.setMouseCallback(\"Select Points\", select_points)\n",
    "cv2.imshow(\"Select Points\", image)\n",
    "print(\"Please select 4 points (top-left, top-right, bottom-right, bottom-left) in this order.\")\n",
    "cv2.waitKey(0)\n",
    "cv2.destroyAllWindows()\n",
    "\n",
    "# Ensure we have exactly 4 points\n",
    "if len(points) == 4:\n",
    "    # Convert points to numpy float32 array\n",
    "    src_points = np.float32(points)\n",
    "\n",
    "    # Define the output image size (width and height of corrected image)\n",
    "    width, height = 500, 700\n",
    "    dst_points = np.float32([[0, 0], [width, 0], [width, height], [0, height]])\n",
    "\n",
    "    # Compute the perspective transform matrix\n",
    "    matrix = cv2.getPerspectiveTransform(src_points, dst_points)\n",
    "\n",
    "    # Apply the perspective warp\n",
    "    warped_image = cv2.warpPerspective(cv2.imread('path/to/your/image.jpg'), matrix, (width, height))\n",
    "\n",
    "    # Save the result to a specified directory\n",
    "    save_path = 'path/to/your/folder/corrected_image.jpg'\n",
    "    cv2.imwrite(save_path, warped_image)\n",
    "    print(f\"Corrected image saved at: {save_path}\")\n",
    "\n",
    "    # Optionally display the result\n",
    "    cv2.imshow(\"Warped Image\", warped_image)\n",
    "    cv2.waitKey(0)\n",
    "    cv2.destroyAllWindows()\n",
    "else:\n",
    "    print(\"Error: Please select exactly 4 points.\")"
   ]
  }
 ],
 "metadata": {
  "kernelspec": {
   "display_name": "Python 3",
   "language": "python",
   "name": "python3"
  },
  "language_info": {
   "codemirror_mode": {
    "name": "ipython",
    "version": 3
   },
   "file_extension": ".py",
   "mimetype": "text/x-python",
   "name": "python",
   "nbconvert_exporter": "python",
   "pygments_lexer": "ipython3",
   "version": "3.10.6"
  }
 },
 "nbformat": 4,
 "nbformat_minor": 2
}
