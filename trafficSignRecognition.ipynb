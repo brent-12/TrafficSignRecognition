{
 "cells": [
  {
   "cell_type": "markdown",
   "metadata": {},
   "source": [
    "Imports"
   ]
  },
  {
   "cell_type": "code",
   "execution_count": 12,
   "metadata": {},
   "outputs": [],
   "source": [
    "import torch\n",
    "import torch.nn as nn\n",
    "import torch.nn.functional as F\n",
    "import torch.optim as optim\n",
    "from torch.utils.data import Dataset, DataLoader\n",
    "import torchvision.transforms as tfrms\n",
    "from sklearn.model_selection import train_test_split\n",
    "import os\n",
    "import cv2"
   ]
  },
  {
   "cell_type": "markdown",
   "metadata": {},
   "source": [
    "Parameters"
   ]
  },
  {
   "cell_type": "code",
   "execution_count": 13,
   "metadata": {},
   "outputs": [],
   "source": [
    "picture = \"./train\"\n",
    "labelFile = \"SignCSV.csv\"\n",
    "epochValue = 30\n",
    "imageDimension = (32,32,3)\n",
    "testRatio = 0.2\n",
    "validationRatio = 0.2\n"
   ]
  },
  {
   "cell_type": "markdown",
   "metadata": {},
   "source": [
    "Split Data"
   ]
  },
  {
   "cell_type": "code",
   "execution_count": null,
   "metadata": {},
   "outputs": [],
   "source": []
  },
  {
   "cell_type": "code",
   "execution_count": null,
   "metadata": {},
   "outputs": [],
   "source": [
    "def loadData():\n",
    "    images = []\n",
    "    classNo = []\n",
    "    imageList = os.listdir(picture)\n",
    "    print(f\"Total Classes is: {len(imageList)}\")\n",
    "\n",
    "    "
   ]
  },
  {
   "cell_type": "code",
   "execution_count": null,
   "metadata": {},
   "outputs": [],
   "source": []
  },
  {
   "cell_type": "markdown",
   "metadata": {},
   "source": [
    "Data Transforms"
   ]
  },
  {
   "cell_type": "code",
   "execution_count": 8,
   "metadata": {},
   "outputs": [],
   "source": [
    "\n",
    "\n",
    "# data adjustments for training\n",
    "# Resiszing all of the images to 32x32\n",
    "\n",
    "data_tfrms = tfrms.Compose([\n",
    "        tfrms.Resize((32,32)),\n",
    "        tfrms.ToTensor(),\n",
    "        tfrms.Normalize((0.3337, 0.3064, 0.3171), ( 0.2672, 0.2564, 0.2629)),\n",
    "])\n",
    "\n",
    "# data_brightness = tfrms.Compose([\n",
    "#     tfrms.Resize((32,32)),\n",
    "#     tfrms.ColorJitter(brightness=-5),\n",
    "#     tfrms.ColorJitter(brightness=5),\n",
    "#     tfrms.ToTensor(),\n",
    "#     tfrms.Normalize((0.3337, 0.3064, 0.3171), ( 0.2672, 0.2564, 0.2629)),\n",
    "# ])\n",
    "\n",
    "# data_saturation = tfrms.Compose([\n",
    "#     tfrms.Resize((32,32)),\n",
    "#     tfrms.ColorJitter(saturation=-5),\n",
    "#     tfrms.ColorJitter(saturation=5),\n",
    "#     tfrms.ToTensor(),\n",
    "#     tfrms.Normalize((0.3337, 0.3064, 0.3171), ( 0.2672, 0.2564, 0.2629)),\n",
    "\n",
    "# ])\n",
    "\n",
    "# data_contrast = tfrms.Compose([\n",
    "#     tfrms.Resize((32,32)),\n",
    "#     tfrms.ColorJitter(contrast=-5),\n",
    "#     tfrms.ColorJitter(contrast=5),\n",
    "#     tfrms.ToTensor(),\n",
    "#     tfrms.Normalize((0.3337, 0.3064, 0.3171), ( 0.2672, 0.2564, 0.2629)),\n",
    "\n",
    "# ])\n",
    "\n",
    "data_hue = tfrms.Compose([\n",
    "    tfrms.Resize((32,32)),\n",
    "    tfrms.ColorJitter(hue=0.4),\n",
    "    tfrms.ToTensor(),\n",
    "    tfrms.Normalize((0.3337, 0.3064, 0.3171), ( 0.2672, 0.2564, 0.2629)),\n",
    "\n",
    "])\n",
    "\n",
    "data_rotation = tfrms.Compose([\n",
    "    tfrms.Resize((32,32)),\n",
    "    tfrms.RandomRotation(15),\n",
    "    tfrms.ToTensor(),\n",
    "    tfrms.Normalize((0.3337, 0.3064, 0.3171), ( 0.2672, 0.2564, 0.2629)),\n",
    "])\n",
    "\n",
    "data_flips = tfrms.Compose([\n",
    "    tfrms.Resize((32,32)),\n",
    "    tfrms.RandomHorizontalFlip(1),\n",
    "    tfrms.RandomVerticalFlip(1),\n",
    "    tfrms.ToTensor(),\n",
    "    tfrms.Normalize((0.3337, 0.3064, 0.3171), ( 0.2672, 0.2564, 0.2629)),\n",
    "])\n",
    "\n",
    "data_hflip = tfrms.Compose([\n",
    "    tfrms.Resize((32,32)),\n",
    "    tfrms.RandomHorizontalFlip(1),\n",
    "    tfrms.ToTensor(),\n",
    "    tfrms.Normalize((0.3337, 0.3064, 0.3171), ( 0.2672, 0.2564, 0.2629)),\n",
    "])\n",
    "\n",
    "data_vflip = tfrms.Compose([\n",
    "    tfrms.Resize((32,32)),\n",
    "    tfrms.RandomVerticalFlip(1),\n",
    "    tfrms.ToTensor(),\n",
    "    tfrms.Normalize((0.3337, 0.3064, 0.3171), ( 0.2672, 0.2564, 0.2629)),\n",
    "])\n",
    "\n",
    "data_shear = tfrms.Compose([\n",
    "    tfrms.Resize((32,32)),\n",
    "    tfrms.RandomAffine(degrees = 15, shear=2),\n",
    "    tfrms.ToTensor(),\n",
    "    tfrms.Normalize((0.3337, 0.3064, 0.3171), ( 0.2672, 0.2564, 0.2629)),\n",
    "])\n",
    "\n",
    "data_translate = tfrms.Compose([\n",
    "    tfrms.Resize((32,32)),\n",
    "    tfrms.RandomAffine(degrees=15, translate=(0.1,0.1)),\n",
    "    tfrms.ToTensor(),\n",
    "    tfrms.Normalize((0.3337, 0.3064, 0.3171), ( 0.2672, 0.2564, 0.2629)),\n",
    "])\n",
    "\n",
    "data_crop = tfrms.Compose([\n",
    "    tfrms.Resize((36,36)),\n",
    "    tfrms.CenterCrop(32),\n",
    "    tfrms.ToTensor(),\n",
    "    tfrms.Normalize((0.3337, 0.3064, 0.3171), ( 0.2672, 0.2564, 0.2629)),\n",
    "])\n",
    "\n",
    "data_grayscale = tfrms.Compose([\n",
    "    tfrms.Resize((32,32)),\n",
    "    tfrms.Grayscale(num_output_channels=3),\n",
    "    tfrms.ToTensor(),\n",
    "    tfrms.Normalize((0.3337, 0.3064, 0.3171), ( 0.2672, 0.2564, 0.2629)),\n",
    "])\n"
   ]
  },
  {
   "cell_type": "markdown",
   "metadata": {},
   "source": [
    "Convolutional Nueral Network"
   ]
  },
  {
   "cell_type": "code",
   "execution_count": 5,
   "metadata": {},
   "outputs": [],
   "source": [
    "class DCNN(nn.Module):\n",
    "    def __init__(self, num_classes):\n",
    "        super().__init__()\n",
    "        self.conv = nn.Sequential(\n",
    "            nn.Conv2d(in_channels=3, out_channels=64, kernel_size=3, padding=1),\n",
    "            nn.MaxPool2d(kernel_size=2),\n",
    "            nn.ELU(inplace=True),\n",
    "            nn.Conv2d(in_channels=64, out_channels=128, kernel_size=3, padding=1),\n",
    "            nn.MaxPool2d(kernel_size=2),\n",
    "            nn.ELU(inplace=True),\n",
    "            nn.Conv2d(in_channels=128,out_channels=256,kernel_size=2,padding=1),\n",
    "            nn.ReLU(inplace=True),\n",
    "            nn.Conv2d(in_channels=256,out_channels=320,kernel_size=3,padding=1),\n",
    "            nn.ELU(inplace=True),\n",
    "            nn.Conv2d(in_channels=320,out_channels=256,kernel_size=3,padding=1),\n",
    "            nn.MaxPool2d(kernel_size=2),\n",
    "            nn.ELU(inplace=True),\n",
    "        )\n",
    "\n",
    "        self.classifcation = nn.Sequential(\n",
    "            nn.Dropout(0,5),\n",
    "            nn.Linear(16*256, 600),\n",
    "            nn.ReLU(inplace=True),\n",
    "            nn.Dropout(0,5),\n",
    "            nn.Linear(in_features=600, out_features=256),\n",
    "            nn.ReLU(inplace=True),\n",
    "            nn.Linear(256, num_classes),\n",
    "        )\n",
    "\n",
    "    def forward(self, x):\n",
    "        X = self.conv(x)\n",
    "        X = X.view(X.shape[0], -1)\n",
    "        Y = self.classifcation(X)\n",
    "        return Y"
   ]
  }
 ],
 "metadata": {
  "kernelspec": {
   "display_name": "Python 3",
   "language": "python",
   "name": "python3"
  },
  "language_info": {
   "codemirror_mode": {
    "name": "ipython",
    "version": 3
   },
   "file_extension": ".py",
   "mimetype": "text/x-python",
   "name": "python",
   "nbconvert_exporter": "python",
   "pygments_lexer": "ipython3",
   "version": "3.10.6"
  }
 },
 "nbformat": 4,
 "nbformat_minor": 2
}
